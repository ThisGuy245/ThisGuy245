{
  "nbformat": 4,
  "nbformat_minor": 0,
  "metadata": {
    "colab": {
      "provenance": [],
      "authorship_tag": "ABX9TyPIU1C4aM/eauD0pYiqqqRr",
      "include_colab_link": true
    },
    "kernelspec": {
      "name": "python3",
      "display_name": "Python 3"
    },
    "language_info": {
      "name": "python"
    }
  },
  "cells": [
    {
      "cell_type": "markdown",
      "metadata": {
        "id": "view-in-github",
        "colab_type": "text"
      },
      "source": [
        "<a href=\"https://colab.research.google.com/github/ThisGuy245/ThisGuy245/blob/main/LabOne.ipynb\" target=\"_parent\"><img src=\"https://colab.research.google.com/assets/colab-badge.svg\" alt=\"Open In Colab\"/></a>"
      ]
    },
    {
      "cell_type": "markdown",
      "source": [
        "# **Thommy's New Notebook for Colab!**"
      ],
      "metadata": {
        "id": "o0kogmMUNhni"
      }
    },
    {
      "cell_type": "code",
      "execution_count": 27,
      "metadata": {
        "colab": {
          "base_uri": "https://localhost:8080/",
          "height": 661
        },
        "id": "g5nPhWXnLkke",
        "outputId": "6bc0842c-a66e-4405-86f8-671ef2a3d7f4"
      },
      "outputs": [
        {
          "name": "stdout",
          "output_type": "stream",
          "text": [
            "1 - 2D transformations\n",
            "2 - 3D transformations: 1\n",
            "1 - Triangle\n",
            "2 - Circle\n",
            "3 - Square: 1\n",
            "Enter coordinates for point 1 (x,y): -1, -1\n",
            "Enter coordinates for point 2 (x,y): 60, 10\n",
            "Enter coordinates for point 3 (x,y): -20, 30\n"
          ]
        },
        {
          "output_type": "display_data",
          "data": {
            "text/plain": [
              "<Figure size 800x600 with 1 Axes>"
            ],
            "image/png": "[encoded data removed]"
          },
          "metadata": {}
        }
      ],
      "source": [
        "# Required library imports\n",
        "import numpy as np\n",
        "import matplotlib.pyplot as plt\n",
        "from math import radians, cos, sin, sqrt\n",
        "from mpl_toolkits.mplot3d import Axes3D  # Necessary for 3D plotting\n",
        "\n",
        "# Bresenham's algorithm for line drawing\n",
        "def bresenham(x1, y1, x2, y2):\n",
        "    dx = abs(x2 - x1)\n",
        "    dy = abs(y2 - y1)\n",
        "    x, y = x1, y1\n",
        "    sx = -1 if x1 > x2 else 1\n",
        "    sy = -1 if y1 > y2 else 1\n",
        "    if dx > dy:\n",
        "        err = dx / 2.0\n",
        "        while x != x2:\n",
        "            plt.plot(x, y, 'bo')\n",
        "            err -= dy\n",
        "            if err < 0:\n",
        "                y += sy\n",
        "                err += dx\n",
        "            x += sx\n",
        "    else:\n",
        "        err = dy / 2.0\n",
        "        while y != y2:\n",
        "            plt.plot(x, y, 'bo')\n",
        "            err -= dx\n",
        "            if err < 0:\n",
        "                x += sx\n",
        "                err += dy\n",
        "            y += sy\n",
        "    plt.plot(x, y, 'bo')\n",
        "\n",
        "# Drawing a circle using Midpoint Circle Algorithm\n",
        "def draw_circle(xc, yc, r):\n",
        "    x = r\n",
        "    y = 0\n",
        "    p = 1 - r\n",
        "    while x > y:\n",
        "        y += 1\n",
        "        if p <= 0:\n",
        "            p = p + 2 * y + 1\n",
        "        else:\n",
        "            x -= 1\n",
        "            p = p + 2 * y - 2 * x + 1\n",
        "        if x < y:\n",
        "            break\n",
        "        plt.plot(xc + x, yc + y, 'bo')\n",
        "        plt.plot(xc - x, yc + y, 'bo')\n",
        "        plt.plot(xc + x, yc - y, 'bo')\n",
        "        plt.plot(xc - x, yc - y, 'bo')\n",
        "        if x != y:\n",
        "            plt.plot(xc + y, yc + x, 'bo')\n",
        "            plt.plot(xc - y, yc + x, 'bo')\n",
        "            plt.plot(xc + y, yc - x, 'bo')\n",
        "            plt.plot(xc - y, yc - x, 'bo')\n",
        "            plt.plot\n",
        "\n",
        "\n",
        "\n",
        "\n",
        "\n",
        "# Drawing a square using simple line-drawing logic\n",
        "def draw_square(xc, yc, side):\n",
        "    half_side = side // 2\n",
        "    bresenham(xc - half_side, yc - half_side, xc + half_side, yc - half_side)\n",
        "    bresenham(xc + half_side, yc - half_side, xc + half_side, yc + half_side)\n",
        "    bresenham(xc + half_side, yc + half_side, xc - half_side, yc + half_side)\n",
        "    bresenham(xc - half_side, yc + half_side, xc - half_side, yc - half_side)\n",
        "\n",
        "# Rotation functions for 3D transformations\n",
        "def rotate_x(point, angle):\n",
        "    rad = radians(angle)\n",
        "    rot_matrix = np.array([[1, 0, 0],\n",
        "                           [0, cos(rad), -sin(rad)],\n",
        "                           [0, sin(rad), cos(rad)]])\n",
        "    return np.dot(rot_matrix, point)\n",
        "\n",
        "def rotate_y(point, angle):\n",
        "    rad = radians(angle)\n",
        "    rot_matrix = np.array([[cos(rad), 0, sin(rad)],\n",
        "                           [0, 1, 0],\n",
        "                           [-sin(rad), 0, cos(rad)]])\n",
        "    return np.dot(rot_matrix, point)\n",
        "\n",
        "def rotate_z(point, angle):\n",
        "    rad = radians(angle)\n",
        "    rot_matrix = np.array([[cos(rad), -sin(rad), 0],\n",
        "                           [sin(rad), cos(rad), 0],\n",
        "                           [0, 0, 1]])\n",
        "    return np.dot(rot_matrix, point)\n",
        "\n",
        "# Main program function\n",
        "def main():\n",
        "    choice = input(\"1 - 2D transformations\\n2 - 3D transformations: \").strip()\n",
        "    if choice == '1':\n",
        "        shape = input(\"1 - Triangle\\n2 - Circle\\n3 - Square: \").strip()\n",
        "        if shape == '1':  # Triangle\n",
        "            points = [tuple(map(int, input(f\"Enter coordinates for point {i+1} (x,y): \").split(','))) for i in range(3)]\n",
        "            plt.figure(figsize=(8, 6))\n",
        "            for i in range(3):\n",
        "                start = points[i]\n",
        "                end = points[(i + 1) % 3]\n",
        "                bresenham(start[0], start[1], end[0], end[1])\n",
        "        elif shape == '2':  # Circle\n",
        "            xc, yc, r = map(int, input(\"Enter center (x, y) and radius r: \").split(','))\n",
        "            plt.figure(figsize=(8, 8))\n",
        "            draw_circle(xc, yc, r)\n",
        "        elif shape == '3':  # Square\n",
        "            xc, yc, side = map(int, input(\"Enter center (x, y) and side length: \").split(','))\n",
        "            plt.figure(figsize=(8, 8))\n",
        "            draw_square(xc, yc, side)\n",
        "        #plt.xlim(20,100)  TEST LIMITS\n",
        "        #plt.ylim(20,100)  TEST LIMITS\n",
        "        plt.grid(True)\n",
        "        plt.show()\n",
        "\n",
        "    elif choice == '2':\n",
        "        point = np.array(list(map(int, input(\"Enter coordinates for the initial point (x,y,z): \").split(','))))\n",
        "        transformations = input(\"Enter transformations sequence (e.g., 'x 30, y 90, z 45'): \")\n",
        "        transformations = transformations.split(', ')\n",
        "        fig = plt.figure()\n",
        "        ax = fig.add_subplot(111, projection='3d')\n",
        "        ax.scatter(*point, color='r', label='Initial Position')\n",
        "        for trans in transformations:\n",
        "            axis, angle = trans.split(' ')\n",
        "            if axis == 'x':\n",
        "                point = rotate_x(point, int(angle))\n",
        "            elif axis == 'y':\n",
        "                point = rotate_y(point, int(angle))\n",
        "            elif axis == 'z':\n",
        "                point = rotate_z(point, int(angle))\n",
        "            ax.scatter(*point, label=f'After {axis.upper()}-axis Rotation {angle}°')\n",
        "        ax.legend()\n",
        "        ax.set_xlim([-30, 30])\n",
        "        ax.set_ylim([-30, 30])\n",
        "        ax.set_zlim([-30, 30])\n",
        "        ax.set_xlabels(\"x\")\n",
        "        ax.set_ylabels(\"y\")\n",
        "        ax.set_zlabels(\"z\")\n",
        "        plt.show()\n",
        "\n",
        "    else:\n",
        "        print(\"Invalid choice. Please enter '1' or '2'.\")\n",
        "\n",
        "# Ensuring the main function is called when the script is executed\n",
        "if __name__ == \"__main__\":\n",
        "    main()\n"
      ]
    }
  ]
}